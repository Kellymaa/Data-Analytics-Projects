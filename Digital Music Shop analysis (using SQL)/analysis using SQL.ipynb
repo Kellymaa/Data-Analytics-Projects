{
 "cells": [
  {
   "cell_type": "markdown",
   "metadata": {},
   "source": [
    "## Data Model\n",
    "\n",
    "The Chinook data model represents a digital media store, including tables for artists, albums, media tracks, invoices and customers.\n",
    "\n",
    "### Objectives:\n",
    "1. Explore the most popular genres in the USA market\n",
    "2. Employee Sales Performace analysis\n",
    "3. Sales across difference countries\n",
    "4. Whether client prefer purchasing individual tracks or an ablum\n",
    "\n",
    "### Database Schema:\n",
    "\n",
    "![image](Schema.jpg)"
   ]
  },
  {
   "cell_type": "code",
   "execution_count": 26,
   "metadata": {},
   "outputs": [],
   "source": [
    "%%capture\n",
    "%load_ext sql\n",
    "%sql sqlite:///chinook.db"
   ]
  },
  {
   "cell_type": "code",
   "execution_count": 27,
   "metadata": {},
   "outputs": [
    {
     "name": "stdout",
     "output_type": "stream",
     "text": [
      "   sqlite:///chinook(1).db\n",
      " * sqlite:///chinook.db\n",
      "Done.\n"
     ]
    },
    {
     "data": {
      "text/html": [
       "<table>\n",
       "    <thead>\n",
       "        <tr>\n",
       "            <th>name</th>\n",
       "            <th>type</th>\n",
       "        </tr>\n",
       "    </thead>\n",
       "    <tbody>\n",
       "        <tr>\n",
       "            <td>album</td>\n",
       "            <td>table</td>\n",
       "        </tr>\n",
       "        <tr>\n",
       "            <td>artist</td>\n",
       "            <td>table</td>\n",
       "        </tr>\n",
       "        <tr>\n",
       "            <td>customer</td>\n",
       "            <td>table</td>\n",
       "        </tr>\n",
       "        <tr>\n",
       "            <td>employee</td>\n",
       "            <td>table</td>\n",
       "        </tr>\n",
       "        <tr>\n",
       "            <td>genre</td>\n",
       "            <td>table</td>\n",
       "        </tr>\n",
       "        <tr>\n",
       "            <td>invoice</td>\n",
       "            <td>table</td>\n",
       "        </tr>\n",
       "        <tr>\n",
       "            <td>invoice_line</td>\n",
       "            <td>table</td>\n",
       "        </tr>\n",
       "        <tr>\n",
       "            <td>media_type</td>\n",
       "            <td>table</td>\n",
       "        </tr>\n",
       "        <tr>\n",
       "            <td>playlist</td>\n",
       "            <td>table</td>\n",
       "        </tr>\n",
       "        <tr>\n",
       "            <td>playlist_track</td>\n",
       "            <td>table</td>\n",
       "        </tr>\n",
       "        <tr>\n",
       "            <td>track</td>\n",
       "            <td>table</td>\n",
       "        </tr>\n",
       "    </tbody>\n",
       "</table>"
      ],
      "text/plain": [
       "[('album', 'table'),\n",
       " ('artist', 'table'),\n",
       " ('customer', 'table'),\n",
       " ('employee', 'table'),\n",
       " ('genre', 'table'),\n",
       " ('invoice', 'table'),\n",
       " ('invoice_line', 'table'),\n",
       " ('media_type', 'table'),\n",
       " ('playlist', 'table'),\n",
       " ('playlist_track', 'table'),\n",
       " ('track', 'table')]"
      ]
     },
     "execution_count": 27,
     "metadata": {},
     "output_type": "execute_result"
    }
   ],
   "source": [
    "%%sql\n",
    "SELECT\n",
    "    name,\n",
    "    type\n",
    "FROM sqlite_master\n",
    "WHERE type IN (\"table\",\"view\");"
   ]
  },
  {
   "cell_type": "markdown",
   "metadata": {},
   "source": [
    "### Explore popular genres in USA market.\n",
    "\n",
    "\n",
    "Find out which genres sell the most tracks in USA, in order to determine which artist's new albumn will be added to the store collection. \n",
    "* separate data into customers from usa only."
   ]
  },
  {
   "cell_type": "code",
   "execution_count": 28,
   "metadata": {},
   "outputs": [
    {
     "name": "stdout",
     "output_type": "stream",
     "text": [
      "   sqlite:///chinook(1).db\n",
      " * sqlite:///chinook.db\n",
      "Done.\n"
     ]
    },
    {
     "data": {
      "text/html": [
       "<table>\n",
       "    <thead>\n",
       "        <tr>\n",
       "            <th>genre</th>\n",
       "            <th>sales</th>\n",
       "            <th>percentage</th>\n",
       "        </tr>\n",
       "    </thead>\n",
       "    <tbody>\n",
       "        <tr>\n",
       "            <td>Rock</td>\n",
       "            <td>561</td>\n",
       "            <td>0.5337773549000951</td>\n",
       "        </tr>\n",
       "        <tr>\n",
       "            <td>Alternative &amp; Punk</td>\n",
       "            <td>130</td>\n",
       "            <td>0.12369172216936251</td>\n",
       "        </tr>\n",
       "        <tr>\n",
       "            <td>Metal</td>\n",
       "            <td>124</td>\n",
       "            <td>0.11798287345385347</td>\n",
       "        </tr>\n",
       "        <tr>\n",
       "            <td>R&amp;B/Soul</td>\n",
       "            <td>53</td>\n",
       "            <td>0.05042816365366318</td>\n",
       "        </tr>\n",
       "        <tr>\n",
       "            <td>Blues</td>\n",
       "            <td>36</td>\n",
       "            <td>0.03425309229305423</td>\n",
       "        </tr>\n",
       "    </tbody>\n",
       "</table>"
      ],
      "text/plain": [
       "[('Rock', 561, 0.5337773549000951),\n",
       " ('Alternative & Punk', 130, 0.12369172216936251),\n",
       " ('Metal', 124, 0.11798287345385347),\n",
       " ('R&B/Soul', 53, 0.05042816365366318),\n",
       " ('Blues', 36, 0.03425309229305423)]"
      ]
     },
     "execution_count": 28,
     "metadata": {},
     "output_type": "execute_result"
    }
   ],
   "source": [
    "%%sql\n",
    "WITH invoice_usa AS\n",
    "    (\n",
    "        SELECT il.* \n",
    "        FROM invoice i\n",
    "            INNER JOIN customer c \n",
    "            ON i.customer_id=c.customer_id\n",
    "            INNER JOIN invoice_line il\n",
    "            ON il.invoice_id=i.invoice_id\n",
    "        WHERE c.country = 'USA'\n",
    "    )\n",
    "\n",
    "SELECT \n",
    "    g.name genre, \n",
    "    COUNT(i.invoice_id) sales, \n",
    "    cast(COUNT(i.invoice_id) as float)/(select count(*) from invoice_usa) percentage\n",
    "FROM invoice_usa i\n",
    "    LEFT JOIN track t \n",
    "    ON i.track_id=t.track_id\n",
    "    LEFT JOIN genre g\n",
    "    ON t.genre_id=g.genre_id\n",
    "GROUP BY 1 ORDER BY 2\n",
    "DESC limit 5"
   ]
  },
  {
   "cell_type": "markdown",
   "metadata": {},
   "source": [
    "The store should pick artist who produce music under the following generes;\n",
    "* Rock\n",
    "* Alternative & Punk\n",
    "* Metal\n",
    "* R&B Soul"
   ]
  },
  {
   "cell_type": "markdown",
   "metadata": {},
   "source": [
    "-------------------------------------------------------------------------------------------------------------------------------\n",
    "\n",
    "### Employee Sales performance analysis\n",
    "Each customer gets assigned to a sales support agent in the company. Find total dollar amouny for each support agent and see who is performing better."
   ]
  },
  {
   "cell_type": "code",
   "execution_count": 29,
   "metadata": {},
   "outputs": [
    {
     "name": "stdout",
     "output_type": "stream",
     "text": [
      "   sqlite:///chinook(1).db\n",
      " * sqlite:///chinook.db\n",
      "Done.\n"
     ]
    },
    {
     "data": {
      "text/html": [
       "<table>\n",
       "    <thead>\n",
       "        <tr>\n",
       "            <th>name</th>\n",
       "            <th>sale</th>\n",
       "        </tr>\n",
       "    </thead>\n",
       "    <tbody>\n",
       "        <tr>\n",
       "            <td>Jane Peacock</td>\n",
       "            <td>1731.510000000004</td>\n",
       "        </tr>\n",
       "        <tr>\n",
       "            <td>Margaret Park</td>\n",
       "            <td>1584.0000000000032</td>\n",
       "        </tr>\n",
       "        <tr>\n",
       "            <td>Steve Johnson</td>\n",
       "            <td>1393.9200000000028</td>\n",
       "        </tr>\n",
       "    </tbody>\n",
       "</table>"
      ],
      "text/plain": [
       "[('Jane Peacock', 1731.510000000004),\n",
       " ('Margaret Park', 1584.0000000000032),\n",
       " ('Steve Johnson', 1393.9200000000028)]"
      ]
     },
     "execution_count": 29,
     "metadata": {},
     "output_type": "execute_result"
    }
   ],
   "source": [
    "%%sql\n",
    "WITH employee_id AS\n",
    "(\n",
    "    SELECT \n",
    "        e.*, \n",
    "        c.*, \n",
    "        i.*\n",
    "    FROM employee e\n",
    "         LEFT JOIN customer c\n",
    "         ON e.employee_id=c.support_rep_id\n",
    "         LEFT JOIN invoice i\n",
    "         ON c.customer_id=i.customer_id\n",
    ")\n",
    "\n",
    "\n",
    "SELECT \n",
    "ei.first_name||' '||ei.last_name name, \n",
    "sum(total) sale \n",
    "FROM employee_id ei\n",
    "GROUP BY name \n",
    "ORDER BY sale DESC\n",
    "LIMIT 3"
   ]
  },
  {
   "cell_type": "markdown",
   "metadata": {},
   "source": [
    "Top employee is Jane Peacock. The difference may be due to  differences in hiring dates."
   ]
  },
  {
   "cell_type": "markdown",
   "metadata": {},
   "source": [
    "---------------------------------------------------------------------------------------------------------------------------\n",
    "### Analyze sales data for customers from each different country. \n",
    "\n",
    "For each country, calculate the following;\n",
    "* total number of customers\n",
    "* total value of sales\n",
    "* average value of sales per customer\n",
    "* average order value\n",
    "\n",
    "We will create a 'Other' group, if that country only has 1 customer. "
   ]
  },
  {
   "cell_type": "code",
   "execution_count": 30,
   "metadata": {},
   "outputs": [
    {
     "name": "stdout",
     "output_type": "stream",
     "text": [
      "   sqlite:///chinook(1).db\n",
      " * sqlite:///chinook.db\n",
      "Done.\n"
     ]
    },
    {
     "data": {
      "text/html": [
       "<table>\n",
       "    <thead>\n",
       "        <tr>\n",
       "            <th>country</th>\n",
       "            <th>total_customers</th>\n",
       "            <th>total_sales</th>\n",
       "            <th>average_sale_per_cus</th>\n",
       "            <th>average_order_value</th>\n",
       "        </tr>\n",
       "    </thead>\n",
       "    <tbody>\n",
       "        <tr>\n",
       "            <td>USA</td>\n",
       "            <td>13</td>\n",
       "            <td>1040.4899999999998</td>\n",
       "            <td>80.0376923076923</td>\n",
       "            <td>7.942671755725189</td>\n",
       "        </tr>\n",
       "        <tr>\n",
       "            <td>Canada</td>\n",
       "            <td>8</td>\n",
       "            <td>535.5900000000001</td>\n",
       "            <td>66.94875000000002</td>\n",
       "            <td>7.047236842105265</td>\n",
       "        </tr>\n",
       "        <tr>\n",
       "            <td>Brazil</td>\n",
       "            <td>5</td>\n",
       "            <td>427.68000000000006</td>\n",
       "            <td>85.53600000000002</td>\n",
       "            <td>7.0111475409836075</td>\n",
       "        </tr>\n",
       "        <tr>\n",
       "            <td>France</td>\n",
       "            <td>5</td>\n",
       "            <td>389.0699999999999</td>\n",
       "            <td>77.81399999999998</td>\n",
       "            <td>7.781399999999998</td>\n",
       "        </tr>\n",
       "        <tr>\n",
       "            <td>Germany</td>\n",
       "            <td>4</td>\n",
       "            <td>334.62</td>\n",
       "            <td>83.655</td>\n",
       "            <td>8.161463414634147</td>\n",
       "        </tr>\n",
       "        <tr>\n",
       "            <td>Czech Republic</td>\n",
       "            <td>2</td>\n",
       "            <td>273.24000000000007</td>\n",
       "            <td>136.62000000000003</td>\n",
       "            <td>9.108000000000002</td>\n",
       "        </tr>\n",
       "        <tr>\n",
       "            <td>United Kingdom</td>\n",
       "            <td>3</td>\n",
       "            <td>245.52</td>\n",
       "            <td>81.84</td>\n",
       "            <td>8.768571428571429</td>\n",
       "        </tr>\n",
       "        <tr>\n",
       "            <td>Portugal</td>\n",
       "            <td>2</td>\n",
       "            <td>185.13000000000002</td>\n",
       "            <td>92.56500000000001</td>\n",
       "            <td>6.383793103448276</td>\n",
       "        </tr>\n",
       "        <tr>\n",
       "            <td>India</td>\n",
       "            <td>2</td>\n",
       "            <td>183.14999999999998</td>\n",
       "            <td>91.57499999999999</td>\n",
       "            <td>8.72142857142857</td>\n",
       "        </tr>\n",
       "        <tr>\n",
       "            <td>Other</td>\n",
       "            <td>15</td>\n",
       "            <td>1094.9400000000003</td>\n",
       "            <td>72.99600000000002</td>\n",
       "            <td>7.44857142857143</td>\n",
       "        </tr>\n",
       "    </tbody>\n",
       "</table>"
      ],
      "text/plain": [
       "[('USA', 13, 1040.4899999999998, 80.0376923076923, 7.942671755725189),\n",
       " ('Canada', 8, 535.5900000000001, 66.94875000000002, 7.047236842105265),\n",
       " ('Brazil', 5, 427.68000000000006, 85.53600000000002, 7.0111475409836075),\n",
       " ('France', 5, 389.0699999999999, 77.81399999999998, 7.781399999999998),\n",
       " ('Germany', 4, 334.62, 83.655, 8.161463414634147),\n",
       " ('Czech Republic', 2, 273.24000000000007, 136.62000000000003, 9.108000000000002),\n",
       " ('United Kingdom', 3, 245.52, 81.84, 8.768571428571429),\n",
       " ('Portugal', 2, 185.13000000000002, 92.56500000000001, 6.383793103448276),\n",
       " ('India', 2, 183.14999999999998, 91.57499999999999, 8.72142857142857),\n",
       " ('Other', 15, 1094.9400000000003, 72.99600000000002, 7.44857142857143)]"
      ]
     },
     "execution_count": 30,
     "metadata": {},
     "output_type": "execute_result"
    }
   ],
   "source": [
    "%%sql\n",
    "\n",
    "WITH country_or_other AS\n",
    "    (\n",
    "     SELECT\n",
    "         CASE\n",
    "            WHEN (\n",
    "                 SELECT count(*)\n",
    "                 FROM customer\n",
    "                 where country = c.country\n",
    "                ) = 1 THEN \"Other\"\n",
    "           ELSE c.country\n",
    "       END AS country,\n",
    "       c.customer_id,\n",
    "       i.*\n",
    "     FROM invoice i\n",
    "     INNER JOIN customer c ON c.customer_id = i.customer_id\n",
    "    ),\n",
    "    country_sales AS (\n",
    "        SELECT \n",
    "            country,\n",
    "            count(distinct customer_id) total_customers,\n",
    "            sum(total) total_sales,\n",
    "            sum(total)/count(distinct customer_id) average_sale_per_cus,\n",
    "            sum(total)/count(invoice_id) average_order_value,\n",
    "            CASE \n",
    "                WHEN country ='Other' \n",
    "                THEN 1 \n",
    "                ELSE 0 \n",
    "                END AS sort\n",
    "        FROM country_or_other co\n",
    "        GROUP BY country\n",
    "        ORDER BY sort ASC,\n",
    "        3 DESC\n",
    "                )\n",
    "\n",
    "SELECT country,\n",
    "        total_customers,\n",
    "        total_sales,\n",
    "        average_sale_per_cus,\n",
    "        average_order_value\n",
    "FROM country_sales"
   ]
  },
  {
   "cell_type": "markdown",
   "metadata": {},
   "source": [
    "USA region contributes to most sales.\n",
    "\n",
    "There is potential in the following countries, as customers are willing to spent more on average:\n",
    "* Czech Republic\n",
    "* India\n",
    "\n",
    "However, it is important to note that the number of customers in these countries are quite low, therefore this sample size is not large enough and additional research may be required. "
   ]
  },
  {
   "cell_type": "markdown",
   "metadata": {},
   "source": [
    "----------------------------------------------------------------------------------------------------\n",
    "### Sales in Album and Individual tracks\n",
    "The store is setup in a way that allows customer to make purchases in one of the two ways:\n",
    "\n",
    "1. purchase a whole album\n",
    "2. purchase a collection of one or more individual tracks.\n",
    "\n",
    "The store does not let customers purchase a whole album, and then add individual tracks to that same purchase (unless they do that by choosing each track manually). When customers purchase albums they are charged the same price as if they had purchased each of those tracks separately.\n",
    "\n",
    "Management are currently considering changing their purchasing strategy to save money. The strategy they are considering is to purchase only the most popular tracks from each album from record companies, instead of purchasing every track from an album.\n",
    "\n",
    "We have been asked to find out what percentage of purchases are individual tracks vs whole albums, so that management can use this data to understand the effect this decision might have on overall revenue."
   ]
  },
  {
   "cell_type": "code",
   "execution_count": 31,
   "metadata": {},
   "outputs": [
    {
     "name": "stdout",
     "output_type": "stream",
     "text": [
      "   sqlite:///chinook(1).db\n",
      " * sqlite:///chinook.db\n",
      "Done.\n"
     ]
    },
    {
     "data": {
      "text/html": [
       "<table>\n",
       "    <thead>\n",
       "        <tr>\n",
       "            <th>album_purchase</th>\n",
       "            <th>number_transactions</th>\n",
       "            <th>sales_percentage</th>\n",
       "        </tr>\n",
       "    </thead>\n",
       "    <tbody>\n",
       "        <tr>\n",
       "            <td>no</td>\n",
       "            <td>500</td>\n",
       "            <td>0.8143322475570033</td>\n",
       "        </tr>\n",
       "        <tr>\n",
       "            <td>yes</td>\n",
       "            <td>114</td>\n",
       "            <td>0.18566775244299674</td>\n",
       "        </tr>\n",
       "    </tbody>\n",
       "</table>"
      ],
      "text/plain": [
       "[('no', 500, 0.8143322475570033), ('yes', 114, 0.18566775244299674)]"
      ]
     },
     "execution_count": 31,
     "metadata": {},
     "output_type": "execute_result"
    }
   ],
   "source": [
    "%%sql\n",
    "\n",
    "WITH invoice_first_track AS\n",
    "    (\n",
    "     SELECT\n",
    "         il.invoice_id invoice_id,\n",
    "         MIN(il.track_id) first_track_id\n",
    "     FROM invoice_line il\n",
    "     GROUP BY 1\n",
    "    ), \n",
    "    with_album_or_track AS\n",
    "    (\n",
    "        SELECT ift.*, \n",
    "        CASE WHEN (\n",
    "                    SELECT t.track_id\n",
    "                    FROM track t\n",
    "                    WHERE t.album_id=(\n",
    "                                      SELECT t2.album_id\n",
    "                                        FROM track t2\n",
    "                                        WHERE t2.track_id=ift.first_track_id)\n",
    "                    EXCEPT\n",
    "                    \n",
    "                    SELECT il.track_id\n",
    "                    FROM invoice_line il\n",
    "                    WHERE il.invoice_id =ift.invoice_id) IS NULL\n",
    "                    \n",
    "                    AND\n",
    "        \n",
    "                   (\n",
    "                    SELECT il.track_id\n",
    "                    FROM invoice_line il\n",
    "                    WHERE il.invoice_id =ift.invoice_id\n",
    "                    \n",
    "                    EXCEPT\n",
    "                       \n",
    "                    SELECT t.track_id\n",
    "                    FROM track t\n",
    "                    WHERE t.album_id=(\n",
    "                                      SELECT t2.album_id\n",
    "                                        FROM track t2\n",
    "                                        WHERE t2.track_id=ift.first_track_id)) IS NULL\n",
    "                    THEN 'yes'\n",
    "                    ELSE 'no'\n",
    "                    END AS 'album_purchase'\n",
    "                    FROM invoice_first_track ift)\n",
    "\n",
    "SELECT album_purchase,\n",
    "        count(invoice_id) number_transactions,\n",
    "        CAST(count(invoice_id) AS FLOAT)/(SELECT COUNT(*) FROM invoice)sales_percentage\n",
    "        FROM with_album_or_track \n",
    "        GROUP BY 1\n",
    "        "
   ]
  },
  {
   "cell_type": "markdown",
   "metadata": {},
   "source": [
    "\n",
    "Individual track purchase accounts for more than 80% of the sales, therefore there is potenial in changing the store's purchasing strategy to only purchase most popular tracks from each album from record companies, instead of purchasing every track from an album. As album sales on accounts for 19%."
   ]
  }
 ],
 "metadata": {
  "kernelspec": {
   "display_name": "Python 3",
   "language": "python",
   "name": "python3"
  },
  "language_info": {
   "codemirror_mode": {
    "name": "ipython",
    "version": 3
   },
   "file_extension": ".py",
   "mimetype": "text/x-python",
   "name": "python",
   "nbconvert_exporter": "python",
   "pygments_lexer": "ipython3",
   "version": "3.7.6"
  }
 },
 "nbformat": 4,
 "nbformat_minor": 4
}
