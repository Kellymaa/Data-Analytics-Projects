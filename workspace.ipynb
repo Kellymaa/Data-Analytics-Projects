{
 "cells": [
  {
   "cell_type": "markdown",
   "metadata": {},
   "source": [
    "### Find out two best markets (country) to advertise Web and Mobile development courses for an e-learning company.\n",
    "<br>\n",
    "We will use freeCodeCamp's 2017 New Coder survey data, as freeCodeCamp is also e-learning platform that provide courses in mobile and web development. \n",
    "\n",
    "The survey data is stored as 2017-fCC-New-Coders-Survey-Data.csv\n",
    "\n",
    "Lets first explore the data.\n"
   ]
  },
  {
   "cell_type": "code",
   "execution_count": 109,
   "metadata": {
    "collapsed": true
   },
   "outputs": [],
   "source": [
    "import pandas as pd\n",
    "import numpy as np"
   ]
  },
  {
   "cell_type": "code",
   "execution_count": 110,
   "metadata": {},
   "outputs": [
    {
     "name": "stderr",
     "output_type": "stream",
     "text": [
      "/dataquest/system/env/python3/lib/python3.4/site-packages/IPython/core/interactiveshell.py:2723: DtypeWarning: Columns (17,62) have mixed types. Specify dtype option on import or set low_memory=False.\n",
      "  interactivity=interactivity, compiler=compiler, result=result)\n"
     ]
    }
   ],
   "source": [
    "data = pd.read_csv('2017-fCC-New-Coders-Survey-Data.csv')"
   ]
  },
  {
   "cell_type": "markdown",
   "metadata": {},
   "source": [
    "data.head()"
   ]
  },
  {
   "cell_type": "markdown",
   "metadata": {},
   "source": [
    "From the survey we would like to explore the following:\n",
    "* Where are these new coders located.\n",
    "* What are the locations with the greatest number of new coders.\n",
    "* How much money new coders are willing to spend on learning.\n",
    "<br>\n",
    "<br>\n",
    "\n",
    "First we need to ensure the dataset is representative of the targeted population by analysing JobRoleInterest column and creat a frequency distribution table"
   ]
  },
  {
   "cell_type": "markdown",
   "metadata": {},
   "source": [
    "Courses offered are mainly specialize in web and mobile development. As well as data Science and game developer. "
   ]
  },
  {
   "cell_type": "code",
   "execution_count": 112,
   "metadata": {},
   "outputs": [
    {
     "data": {
      "text/plain": [
       "NaN                                                                            61.529574\n",
       "Full-Stack Web Developer                                                        4.528198\n",
       "  Front-End Web Developer                                                       2.475928\n",
       "  Data Scientist                                                                0.836314\n",
       "Back-End Web Developer                                                          0.781293\n",
       "  Mobile Developer                                                              0.643741\n",
       "Game Developer                                                                  0.627235\n",
       "Information Security                                                            0.506190\n",
       "Full-Stack Web Developer,   Front-End Web Developer                             0.352132\n",
       "  Front-End Web Developer, Full-Stack Web Developer                             0.308116\n",
       "  Product Manager                                                               0.302613\n",
       "Data Engineer                                                                   0.291609\n",
       "  User Experience Designer                                                      0.286107\n",
       "  User Experience Designer,   Front-End Web Developer                           0.236589\n",
       "  Front-End Web Developer, Back-End Web Developer, Full-Stack Web Developer     0.214580\n",
       "Name: JobRoleInterest, dtype: float64"
      ]
     },
     "execution_count": 112,
     "metadata": {},
     "output_type": "execute_result"
    }
   ],
   "source": [
    "data['JobRoleInterest'].value_counts(normalize=True, dropna=False).head(15)*100"
   ]
  },
  {
   "cell_type": "markdown",
   "metadata": {},
   "source": [
    "The frequency table indicated 61 percent of participate did not provide response for job interest."
   ]
  },
  {
   "cell_type": "markdown",
   "metadata": {},
   "source": [
    "It also indicates some participants are interest in more than 1 job role.\n",
    "<br>\n",
    "Lets explore the the ratio of people interested in Web or Mobile Development."
   ]
  },
  {
   "cell_type": "code",
   "execution_count": 113,
   "metadata": {},
   "outputs": [
    {
     "data": {
      "text/plain": [
       "True     86.241419\n",
       "False    13.758581\n",
       "Name: WebOrMobile, dtype: float64"
      ]
     },
     "execution_count": 113,
     "metadata": {},
     "output_type": "execute_result"
    }
   ],
   "source": [
    "data['WebOrMobile'] = data['JobRoleInterest'].str.contains('Web Developer|Mobile Developer', regex=True)\n",
    "data['WebOrMobile'].value_counts(normalize=True)*100"
   ]
  },
  {
   "cell_type": "markdown",
   "metadata": {},
   "source": [
    "Out of the 39 percent participants who provided Job Interest, around 89 percent selected Mobile or Web Development as on of their job interest. We can be confident that this 39 percent of participant is representative of our targeted interest.\n",
    "<br>\n",
    "\n",
    "Lets explore the data further on the 61 percent participants who did not indicate job interest.\n",
    "<br>\n",
    "We notice columns for JobRoleInterest, lets extract these columns and explore them."
   ]
  },
  {
   "cell_type": "code",
   "execution_count": 114,
   "metadata": {},
   "outputs": [],
   "source": [
    "jobInterest_data = data[data['JobRoleInterest']== None][[col for col in data.columns if 'JobInterest' in col]]"
   ]
  },
  {
   "cell_type": "markdown",
   "metadata": {},
   "source": [
    "Now we have a dataframe contains only JobInterest columns for the 61 percent of participant who did not indicate job interest. As mentiones earlier, the courses mainly forcus on Web and Mobile development. Lets count the percentage of participants indicated interest on these 2 areas. "
   ]
  },
  {
   "cell_type": "code",
   "execution_count": 115,
   "metadata": {},
   "outputs": [
    {
     "data": {
      "text/plain": [
       "Series([], dtype: int64)"
      ]
     },
     "execution_count": 115,
     "metadata": {},
     "output_type": "execute_result"
    }
   ],
   "source": [
    "interest_area = ['JobInterestBackEnd','JobInterestFrontEnd','JobInterestFullStack','JobInterestMobile']\n",
    "(jobInterest_data[interest_area].sum(axis=1)>=1).value_counts()"
   ]
  },
  {
   "cell_type": "markdown",
   "metadata": {},
   "source": [
    "All null value, cannot find job interest for these participants.\n",
    "<br>\n",
    "Lets drop these rows (no indication of job interest)."
   ]
  },
  {
   "cell_type": "code",
   "execution_count": 116,
   "metadata": {},
   "outputs": [
    {
     "data": {
      "text/plain": [
       "0                                                  NaN\n",
       "1                             Full-Stack Web Developer\n",
       "2      Front-End Web Developer, Back-End Web Develo...\n",
       "3      Front-End Web Developer, Full-Stack Web Deve...\n",
       "4    Full-Stack Web Developer, Information Security...\n",
       "Name: JobRoleInterest, dtype: object"
      ]
     },
     "execution_count": 116,
     "metadata": {},
     "output_type": "execute_result"
    }
   ],
   "source": [
    "data['JobRoleInterest'].head()"
   ]
  },
  {
   "cell_type": "code",
   "execution_count": 117,
   "metadata": {},
   "outputs": [
    {
     "data": {
      "text/plain": [
       "(6992, 137)"
      ]
     },
     "execution_count": 117,
     "metadata": {},
     "output_type": "execute_result"
    }
   ],
   "source": [
    "data = data[data['JobRoleInterest'].notnull()]\n",
    "data.shape # confirm nan value dropped. "
   ]
  },
  {
   "cell_type": "markdown",
   "metadata": {},
   "source": [
    "Now lets explore where these participants(new coders) are located and the density for each area. "
   ]
  },
  {
   "cell_type": "code",
   "execution_count": 118,
   "metadata": {},
   "outputs": [
    {
     "data": {
      "text/plain": [
       "United States of America         3125\n",
       "India                             528\n",
       "United Kingdom                    315\n",
       "Canada                            260\n",
       "Poland                            131\n",
       "Brazil                            129\n",
       "Germany                           125\n",
       "Australia                         112\n",
       "Russia                            102\n",
       "Ukraine                            89\n",
       "Nigeria                            84\n",
       "Spain                              77\n",
       "France                             75\n",
       "Romania                            71\n",
       "Netherlands (Holland, Europe)      65\n",
       "Italy                              62\n",
       "Philippines                        52\n",
       "Serbia                             52\n",
       "Greece                             46\n",
       "Ireland                            43\n",
       "South Africa                       39\n",
       "Mexico                             37\n",
       "Turkey                             36\n",
       "Singapore                          34\n",
       "Hungary                            34\n",
       "New Zealand                        33\n",
       "Croatia                            32\n",
       "Argentina                          32\n",
       "Norway                             31\n",
       "Indonesia                          31\n",
       "Pakistan                           31\n",
       "Sweden                             31\n",
       "Denmark                            30\n",
       "Israel                             29\n",
       "Egypt                              29\n",
       "Finland                            29\n",
       "Malaysia                           28\n",
       "Portugal                           28\n",
       "China                              28\n",
       "Vietnam                            28\n",
       "Kenya                              26\n",
       "Czech Republic                     26\n",
       "Japan                              24\n",
       "Bangladesh                         23\n",
       "Lithuania                          23\n",
       "Great Britain                      21\n",
       "Belarus                            20\n",
       "Bosnia & Herzegovina               20\n",
       "Belgium                            19\n",
       "United Arab Emirates               19\n",
       "Korea South                        17\n",
       "Nepal                              17\n",
       "Austria                            17\n",
       "Colombia                           16\n",
       "Venezuela                          16\n",
       "Bulgaria                           15\n",
       "Switzerland                        14\n",
       "Taiwan                             14\n",
       "Republic of Serbia                 14\n",
       "Latvia                             13\n",
       "Thailand                           13\n",
       "Ghana                              12\n",
       "Kazakhstan                         11\n",
       "Hong Kong                          11\n",
       "Morocco                            10\n",
       "Sri Lanka                          10\n",
       "Macedonia                          10\n",
       "Jamaica                             9\n",
       "Saudi Arabia                        9\n",
       "Slovakia                            9\n",
       "Slovenia                            9\n",
       "Peru                                8\n",
       "Algeria                             8\n",
       "Estonia                             8\n",
       "Dominican Republic                  8\n",
       "Puerto Rico                         7\n",
       "Costa Rica                          7\n",
       "Chile                               6\n",
       "Luxembourg                          6\n",
       "Virgin Islands (USA)                6\n",
       "Albania                             6\n",
       "Iran                                5\n",
       "Azerbaijan                          5\n",
       "Uruguay                             5\n",
       "Tunisia                             5\n",
       "Zimbabwe                            4\n",
       "Cambodia                            4\n",
       "Georgia                             4\n",
       "Afghanistan                         4\n",
       "Niger                               3\n",
       "Netherland Antilles                 3\n",
       "Uzbekistan                          3\n",
       "Senegal                             3\n",
       "Uganda                              3\n",
       "Paraguay                            3\n",
       "Iceland                             3\n",
       "Iraq                                2\n",
       "Mauritius                           2\n",
       "Lebanon                             2\n",
       "Ecuador                             2\n",
       "Bahrain                             2\n",
       "Honduras                            2\n",
       "Cyprus                              2\n",
       "Moldova                             2\n",
       "Guam                                2\n",
       "Haiti                               2\n",
       "Bolivia                             1\n",
       "Angola                              1\n",
       "Rwanda                              1\n",
       "Anguilla                            1\n",
       "Samoa                               1\n",
       "Sudan                               1\n",
       "Panama                              1\n",
       "Kyrgyzstan                          1\n",
       "Cuba                                1\n",
       "Mozambique                          1\n",
       "Channel Islands                     1\n",
       "Yemen                               1\n",
       "Guadeloupe                          1\n",
       "Nicaragua                           1\n",
       "Qatar                               1\n",
       "Gambia                              1\n",
       "Aruba                               1\n",
       "Cameroon                            1\n",
       "Botswana                            1\n",
       "Liberia                             1\n",
       "Turkmenistan                        1\n",
       "Jordan                              1\n",
       "Cayman Islands                      1\n",
       "Somalia                             1\n",
       "Nambia                              1\n",
       "Trinidad & Tobago                   1\n",
       "Papua New Guinea                    1\n",
       "Guatemala                           1\n",
       "Vanuatu                             1\n",
       "Myanmar                             1\n",
       "Gibraltar                           1\n",
       "Name: CountryLive, dtype: int64"
      ]
     },
     "execution_count": 118,
     "metadata": {},
     "output_type": "execute_result"
    }
   ],
   "source": [
    "data['CountryLive'].value_counts()"
   ]
  },
  {
   "cell_type": "code",
   "execution_count": 119,
   "metadata": {},
   "outputs": [
    {
     "data": {
      "text/plain": [
       "United States of America         45.700497\n",
       "India                             7.721556\n",
       "United Kingdom                    4.606610\n",
       "Canada                            3.802281\n",
       "Poland                            1.915765\n",
       "Brazil                            1.886517\n",
       "Germany                           1.828020\n",
       "Australia                         1.637906\n",
       "Russia                            1.491664\n",
       "Ukraine                           1.301550\n",
       "Nigeria                           1.228429\n",
       "Spain                             1.126060\n",
       "France                            1.096812\n",
       "Romania                           1.038315\n",
       "Netherlands (Holland, Europe)     0.950570\n",
       "Italy                             0.906698\n",
       "Philippines                       0.760456\n",
       "Serbia                            0.760456\n",
       "Greece                            0.672711\n",
       "Ireland                           0.628839\n",
       "South Africa                      0.570342\n",
       "Mexico                            0.541094\n",
       "Turkey                            0.526470\n",
       "Singapore                         0.497221\n",
       "Hungary                           0.497221\n",
       "New Zealand                       0.482597\n",
       "Croatia                           0.467973\n",
       "Argentina                         0.467973\n",
       "Norway                            0.453349\n",
       "Indonesia                         0.453349\n",
       "Pakistan                          0.453349\n",
       "Sweden                            0.453349\n",
       "Denmark                           0.438725\n",
       "Israel                            0.424101\n",
       "Egypt                             0.424101\n",
       "Finland                           0.424101\n",
       "Malaysia                          0.409476\n",
       "Portugal                          0.409476\n",
       "China                             0.409476\n",
       "Vietnam                           0.409476\n",
       "Kenya                             0.380228\n",
       "Czech Republic                    0.380228\n",
       "Japan                             0.350980\n",
       "Bangladesh                        0.336356\n",
       "Lithuania                         0.336356\n",
       "Great Britain                     0.307107\n",
       "Belarus                           0.292483\n",
       "Bosnia & Herzegovina              0.292483\n",
       "Belgium                           0.277859\n",
       "United Arab Emirates              0.277859\n",
       "Korea South                       0.248611\n",
       "Nepal                             0.248611\n",
       "Austria                           0.248611\n",
       "Colombia                          0.233987\n",
       "Venezuela                         0.233987\n",
       "Bulgaria                          0.219362\n",
       "Switzerland                       0.204738\n",
       "Taiwan                            0.204738\n",
       "Republic of Serbia                0.204738\n",
       "Latvia                            0.190114\n",
       "Thailand                          0.190114\n",
       "Ghana                             0.175490\n",
       "Kazakhstan                        0.160866\n",
       "Hong Kong                         0.160866\n",
       "Morocco                           0.146242\n",
       "Sri Lanka                         0.146242\n",
       "Macedonia                         0.146242\n",
       "Jamaica                           0.131617\n",
       "Saudi Arabia                      0.131617\n",
       "Slovakia                          0.131617\n",
       "Slovenia                          0.131617\n",
       "Peru                              0.116993\n",
       "Algeria                           0.116993\n",
       "Estonia                           0.116993\n",
       "Dominican Republic                0.116993\n",
       "Puerto Rico                       0.102369\n",
       "Costa Rica                        0.102369\n",
       "Chile                             0.087745\n",
       "Luxembourg                        0.087745\n",
       "Virgin Islands (USA)              0.087745\n",
       "Albania                           0.087745\n",
       "Iran                              0.073121\n",
       "Azerbaijan                        0.073121\n",
       "Uruguay                           0.073121\n",
       "Tunisia                           0.073121\n",
       "Zimbabwe                          0.058497\n",
       "Cambodia                          0.058497\n",
       "Georgia                           0.058497\n",
       "Afghanistan                       0.058497\n",
       "Niger                             0.043872\n",
       "Netherland Antilles               0.043872\n",
       "Uzbekistan                        0.043872\n",
       "Senegal                           0.043872\n",
       "Uganda                            0.043872\n",
       "Paraguay                          0.043872\n",
       "Iceland                           0.043872\n",
       "Iraq                              0.029248\n",
       "Mauritius                         0.029248\n",
       "Lebanon                           0.029248\n",
       "Ecuador                           0.029248\n",
       "Bahrain                           0.029248\n",
       "Honduras                          0.029248\n",
       "Cyprus                            0.029248\n",
       "Moldova                           0.029248\n",
       "Guam                              0.029248\n",
       "Haiti                             0.029248\n",
       "Bolivia                           0.014624\n",
       "Angola                            0.014624\n",
       "Rwanda                            0.014624\n",
       "Anguilla                          0.014624\n",
       "Samoa                             0.014624\n",
       "Sudan                             0.014624\n",
       "Panama                            0.014624\n",
       "Kyrgyzstan                        0.014624\n",
       "Cuba                              0.014624\n",
       "Mozambique                        0.014624\n",
       "Channel Islands                   0.014624\n",
       "Yemen                             0.014624\n",
       "Guadeloupe                        0.014624\n",
       "Nicaragua                         0.014624\n",
       "Qatar                             0.014624\n",
       "Gambia                            0.014624\n",
       "Aruba                             0.014624\n",
       "Cameroon                          0.014624\n",
       "Botswana                          0.014624\n",
       "Liberia                           0.014624\n",
       "Turkmenistan                      0.014624\n",
       "Jordan                            0.014624\n",
       "Cayman Islands                    0.014624\n",
       "Somalia                           0.014624\n",
       "Nambia                            0.014624\n",
       "Trinidad & Tobago                 0.014624\n",
       "Papua New Guinea                  0.014624\n",
       "Guatemala                         0.014624\n",
       "Vanuatu                           0.014624\n",
       "Myanmar                           0.014624\n",
       "Gibraltar                         0.014624\n",
       "Name: CountryLive, dtype: float64"
      ]
     },
     "execution_count": 119,
     "metadata": {},
     "output_type": "execute_result"
    }
   ],
   "source": [
    "data['CountryLive'].value_counts(normalize=True)*100"
   ]
  },
  {
   "cell_type": "markdown",
   "metadata": {},
   "source": [
    "45 percent of these new codes lives in USA, and 7.7 percent lives in india. \n",
    "<br>\n",
    "Lets continue to find our how much money they willing to spend on subscription. MoneyForLearning column represent amount of money(USD) spent by participants since they started coding. \n",
    "<br>\n",
    "We will only focus on participants who lives in USA, India, Canada and Poland, as they have the greatest absolute frequency."
   ]
  },
  {
   "cell_type": "markdown",
   "metadata": {},
   "source": [
    "Find out money spent per month"
   ]
  },
  {
   "cell_type": "code",
   "execution_count": 138,
   "metadata": {
    "scrolled": true
   },
   "outputs": [],
   "source": [
    "data['MonthsProgramming'].value_counts().sort_index().head() # need to remove the Zeros\n",
    "data.loc[data['MonthsProgramming'] == 0,'MonthsProgramming'] = 1"
   ]
  },
  {
   "cell_type": "code",
   "execution_count": 139,
   "metadata": {},
   "outputs": [
    {
     "data": {
      "text/plain": [
       "1.0    1002\n",
       "2.0     669\n",
       "3.0     637\n",
       "4.0     367\n",
       "5.0     279\n",
       "Name: MonthsProgramming, dtype: int64"
      ]
     },
     "execution_count": 139,
     "metadata": {},
     "output_type": "execute_result"
    }
   ],
   "source": [
    "data['MonthsProgramming'].value_counts().sort_index().head() #confirm all zeros removed"
   ]
  },
  {
   "cell_type": "code",
   "execution_count": 141,
   "metadata": {},
   "outputs": [
    {
     "data": {
      "text/plain": [
       "1     13.333333\n",
       "2    200.000000\n",
       "3      0.000000\n",
       "4      0.000000\n",
       "6      0.000000\n",
       "Name: MoneyPerMonth, dtype: float64"
      ]
     },
     "execution_count": 141,
     "metadata": {},
     "output_type": "execute_result"
    }
   ],
   "source": [
    "data['MoneyPerMonth'] = data['MoneyForLearning']/data['MonthsProgramming']\n",
    "data['MoneyPerMonth'].head()"
   ]
  },
  {
   "cell_type": "code",
   "execution_count": 142,
   "metadata": {},
   "outputs": [],
   "source": [
    "countries = ['United States of America','India', 'United Kingdom', 'Canada']\n",
    "data =  data[data['CountryLive'].isin(countries)]"
   ]
  },
  {
   "cell_type": "code",
   "execution_count": 143,
   "metadata": {},
   "outputs": [
    {
     "data": {
      "text/plain": [
       "False    4228\n",
       "Name: CountryLive, dtype: int64"
      ]
     },
     "execution_count": 143,
     "metadata": {},
     "output_type": "execute_result"
    }
   ],
   "source": [
    "data['CountryLive'].isnull().value_counts() "
   ]
  },
  {
   "cell_type": "code",
   "execution_count": 144,
   "metadata": {},
   "outputs": [
    {
     "data": {
      "text/plain": [
       "False    3915\n",
       "True      313\n",
       "Name: MoneyPerMonth, dtype: int64"
      ]
     },
     "execution_count": 144,
     "metadata": {},
     "output_type": "execute_result"
    }
   ],
   "source": [
    "data['MoneyPerMonth'].isnull().value_counts()"
   ]
  },
  {
   "cell_type": "code",
   "execution_count": 145,
   "metadata": {
    "collapsed": true
   },
   "outputs": [],
   "source": [
    "data = data[data['MoneyPerMonth'].notnull()]"
   ]
  },
  {
   "cell_type": "code",
   "execution_count": 151,
   "metadata": {},
   "outputs": [
    {
     "data": {
      "text/html": [
       "<div>\n",
       "<style scoped>\n",
       "    .dataframe tbody tr th:only-of-type {\n",
       "        vertical-align: middle;\n",
       "    }\n",
       "\n",
       "    .dataframe tbody tr th {\n",
       "        vertical-align: top;\n",
       "    }\n",
       "\n",
       "    .dataframe thead th {\n",
       "        text-align: right;\n",
       "    }\n",
       "</style>\n",
       "<table border=\"1\" class=\"dataframe\">\n",
       "  <thead>\n",
       "    <tr style=\"text-align: right;\">\n",
       "      <th></th>\n",
       "      <th>mean</th>\n",
       "      <th>median</th>\n",
       "      <th>mode</th>\n",
       "    </tr>\n",
       "    <tr>\n",
       "      <th>CountryLive</th>\n",
       "      <th></th>\n",
       "      <th></th>\n",
       "      <th></th>\n",
       "    </tr>\n",
       "  </thead>\n",
       "  <tbody>\n",
       "    <tr>\n",
       "      <th>Canada</th>\n",
       "      <td>113.510961</td>\n",
       "      <td>0.000000</td>\n",
       "      <td>0.0</td>\n",
       "    </tr>\n",
       "    <tr>\n",
       "      <th>India</th>\n",
       "      <td>135.100982</td>\n",
       "      <td>0.000000</td>\n",
       "      <td>0.0</td>\n",
       "    </tr>\n",
       "    <tr>\n",
       "      <th>United Kingdom</th>\n",
       "      <td>45.534443</td>\n",
       "      <td>0.000000</td>\n",
       "      <td>0.0</td>\n",
       "    </tr>\n",
       "    <tr>\n",
       "      <th>United States of America</th>\n",
       "      <td>227.997996</td>\n",
       "      <td>3.333333</td>\n",
       "      <td>0.0</td>\n",
       "    </tr>\n",
       "  </tbody>\n",
       "</table>\n",
       "</div>"
      ],
      "text/plain": [
       "                                mean    median  mode\n",
       "CountryLive                                         \n",
       "Canada                    113.510961  0.000000   0.0\n",
       "India                     135.100982  0.000000   0.0\n",
       "United Kingdom             45.534443  0.000000   0.0\n",
       "United States of America  227.997996  3.333333   0.0"
      ]
     },
     "execution_count": 151,
     "metadata": {},
     "output_type": "execute_result"
    }
   ],
   "source": [
    "data.groupby(['CountryLive'])['MoneyPerMonth'].agg(['mean','median',pd.Series.mode])"
   ]
  },
  {
   "cell_type": "markdown",
   "metadata": {},
   "source": [
    "Considering India's GDP per capita, its interesting that UK and Canada spent less on average. Lets look at if there are outliers influencing the mean. "
   ]
  },
  {
   "cell_type": "code",
   "execution_count": 160,
   "metadata": {},
   "outputs": [],
   "source": [
    "import matplotlib.pyplot as plt\n",
    "\n",
    "%matplotlib inline"
   ]
  },
  {
   "cell_type": "code",
   "execution_count": 192,
   "metadata": {},
   "outputs": [
    {
     "data": {
      "text/plain": [
       "[<matplotlib.text.Text at 0x7efdb9447e48>,\n",
       " <matplotlib.text.Text at 0x7efdb990e0f0>,\n",
       " <matplotlib.text.Text at 0x7efdb934b780>,\n",
       " <matplotlib.text.Text at 0x7efdb96579b0>]"
      ]
     },
     "execution_count": 192,
     "metadata": {},
     "output_type": "execute_result"
    },
    {
     "data": {
      "image/png": "[encoded data removed]",
      "text/plain": [
       "<matplotlib.figure.Figure at 0x7efdb9ae06d8>"
      ]
     },
     "metadata": {},
     "output_type": "display_data"
    }
   ],
   "source": [
    "fig, ax = plt.subplots()\n",
    "\n",
    "data.boxplot(by='CountryLive', column='MoneyPerMonth', ax=ax)\n",
    "\n",
    "ax.set_ylim([0, 20000])\n",
    "ax.set_xticklabels(['Canada','India', 'UK', 'USA'])"
   ]
  },
  {
   "cell_type": "markdown",
   "metadata": {},
   "source": [
    "Few participants in india spend 5000 or more, the money may be spend on attending bootcamps."
   ]
  },
  {
   "cell_type": "code",
   "execution_count": 198,
   "metadata": {},
   "outputs": [],
   "source": [
    "data_india_outlier = data[(data['CountryLive']=='India') & (data['MoneyPerMonth']>=3000)]\n",
    "data = data.drop(data_india_outlier.index)\n"
   ]
  },
  {
   "cell_type": "markdown",
   "metadata": {},
   "source": [
    "None of these participants attended bootcamp. May be due to other reasons such as payment for attending colleague. Delete the outliers from data. "
   ]
  },
  {
   "cell_type": "code",
   "execution_count": 200,
   "metadata": {},
   "outputs": [
    {
     "data": {
      "text/html": [
       "<div>\n",
       "<style scoped>\n",
       "    .dataframe tbody tr th:only-of-type {\n",
       "        vertical-align: middle;\n",
       "    }\n",
       "\n",
       "    .dataframe tbody tr th {\n",
       "        vertical-align: top;\n",
       "    }\n",
       "\n",
       "    .dataframe thead th {\n",
       "        text-align: right;\n",
       "    }\n",
       "</style>\n",
       "<table border=\"1\" class=\"dataframe\">\n",
       "  <thead>\n",
       "    <tr style=\"text-align: right;\">\n",
       "      <th></th>\n",
       "      <th>mean</th>\n",
       "      <th>median</th>\n",
       "      <th>mode</th>\n",
       "    </tr>\n",
       "    <tr>\n",
       "      <th>CountryLive</th>\n",
       "      <th></th>\n",
       "      <th></th>\n",
       "      <th></th>\n",
       "    </tr>\n",
       "  </thead>\n",
       "  <tbody>\n",
       "    <tr>\n",
       "      <th>Canada</th>\n",
       "      <td>113.510961</td>\n",
       "      <td>0.000000</td>\n",
       "      <td>0.0</td>\n",
       "    </tr>\n",
       "    <tr>\n",
       "      <th>India</th>\n",
       "      <td>65.758763</td>\n",
       "      <td>0.000000</td>\n",
       "      <td>0.0</td>\n",
       "    </tr>\n",
       "    <tr>\n",
       "      <th>United Kingdom</th>\n",
       "      <td>45.534443</td>\n",
       "      <td>0.000000</td>\n",
       "      <td>0.0</td>\n",
       "    </tr>\n",
       "    <tr>\n",
       "      <th>United States of America</th>\n",
       "      <td>227.997996</td>\n",
       "      <td>3.333333</td>\n",
       "      <td>0.0</td>\n",
       "    </tr>\n",
       "  </tbody>\n",
       "</table>\n",
       "</div>"
      ],
      "text/plain": [
       "                                mean    median  mode\n",
       "CountryLive                                         \n",
       "Canada                    113.510961  0.000000   0.0\n",
       "India                      65.758763  0.000000   0.0\n",
       "United Kingdom             45.534443  0.000000   0.0\n",
       "United States of America  227.997996  3.333333   0.0"
      ]
     },
     "execution_count": 200,
     "metadata": {},
     "output_type": "execute_result"
    }
   ],
   "source": [
    "data.groupby(['CountryLive'])['MoneyPerMonth'].agg(['mean','median',pd.Series.mode])"
   ]
  },
  {
   "cell_type": "markdown",
   "metadata": {
    "collapsed": true
   },
   "source": [
    "## Conclusion\n",
    "From analyzing the survey data, there is concrete evidence that US would be a good market to invest in advertisement. The second option between India and UK is not so clear. From the statistics, India has more pontential customers and spent more money per month. Further surveys should be conducted for these 2 markets."
   ]
  },
  {
   "cell_type": "code",
   "execution_count": null,
   "metadata": {},
   "outputs": [],
   "source": []
  }
 ],
 "metadata": {
  "kernelspec": {
   "display_name": "Python 3",
   "language": "python",
   "name": "python3"
  },
  "language_info": {
   "codemirror_mode": {
    "name": "ipython",
    "version": 3
   },
   "file_extension": ".py",
   "mimetype": "text/x-python",
   "name": "python",
   "nbconvert_exporter": "python",
   "pygments_lexer": "ipython3",
   "version": "3.8.5"
  }
 },
 "nbformat": 4,
 "nbformat_minor": 2
}
